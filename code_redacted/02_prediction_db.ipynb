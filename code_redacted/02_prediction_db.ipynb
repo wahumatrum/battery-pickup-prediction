{
 "cells": [
  {
   "cell_type": "code",
   "execution_count": 1,
   "metadata": {},
   "outputs": [],
   "source": [
    "import numpy as np\n",
    "import pandas as pd\n",
    "from datetime import datetime as dt\n",
    "import time\n",
    "import seaborn as sns\n",
    "from matplotlib import pyplot as plt\n",
    "import sqlalchemy\n",
    "from sqlalchemy import create_engine\n",
    "import pymysql\n",
    "import os\n",
    "from dotenv import load_dotenv\n",
    "%load_ext sql\n",
    "import prediction"
   ]
  },
  {
   "cell_type": "markdown",
   "metadata": {},
   "source": [
    "### Read data and select columns"
   ]
  },
  {
   "cell_type": "code",
   "execution_count": null,
   "metadata": {},
   "outputs": [],
   "source": [
    "orders = pd.read_pickle(\"../data/battery_cleaned_with_geo.pkl\")\n",
    "orders.columns, orders.shape # redacted"
   ]
  },
  {
   "cell_type": "code",
   "execution_count": 3,
   "metadata": {},
   "outputs": [],
   "source": [
    "# we work with a copy. at the end of the notebook we will impute predictions to the original data\n",
    "orders_orig = orders.copy()\n",
    "orders_orig.reset_index(inplace=True, drop=True)"
   ]
  },
  {
   "cell_type": "code",
   "execution_count": 4,
   "metadata": {},
   "outputs": [],
   "source": [
    "orders = orders[['übergabestellennummer', 'konzernnummer', 'name_1', 'name_2', 'ort', 'branche', 'typ', 'kreisgemeindeschlüssel', 'bundesland', 'auftragsnummer', 'vertragsnummer', 'transporteur', 'auftragstyp', 'auftragsstatus', 'auftragsdatum',\n",
    "                  'auftrag_bestätigt_am', 'abholdatum', 'zurückgemeldet_am', 'bruttogewicht_in_kg', 'nettogewicht_in_kg', 'angemeldete_containeranzahl', 'angeforderter_behältertyp', 'gelieferte_behälteranzahl', 'gelieferter_behältertyp', 'volle_Addresse', 'lat', 'long']]"
   ]
  },
  {
   "cell_type": "code",
   "execution_count": null,
   "metadata": {},
   "outputs": [],
   "source": [
    "orders.reset_index(inplace=True, drop=True)\n",
    "orders.head(5) # redacted"
   ]
  },
  {
   "cell_type": "markdown",
   "metadata": {},
   "source": [
    "### Plausibility checks"
   ]
  },
  {
   "cell_type": "code",
   "execution_count": null,
   "metadata": {},
   "outputs": [],
   "source": [
    "orders.query(\"übergabestellennummer == '103509220'\") # redacted"
   ]
  },
  {
   "cell_type": "code",
   "execution_count": 7,
   "metadata": {},
   "outputs": [],
   "source": [
    "q_completed_orders = \"abholdatum != '1999-01-01' and zurückgemeldet_am != '1999-01-01'\"\n",
    "q_check_same_container_type = \"angeforderter_behältertyp != gelieferter_behältertyp\"\n",
    "q_check_same_group_as_collection_point = \"übergabestellennummer == konzernnummer\"\n",
    "q_check_no_weight_but_not_open = \"nettogewicht_in_kg == 0 and auftragstyp == 'Abholauftrag' and (auftragsstatus == 'Erledigt' or auftragsstatus == 'Drittbeauftragt')\"\n",
    "q_check_new_carrier_completed = \"nettogewicht_in_kg != 0 and auftragsstatus == 'Drittbeauftragt'\"\n"
   ]
  },
  {
   "cell_type": "code",
   "execution_count": 8,
   "metadata": {},
   "outputs": [
    {
     "data": {
      "text/plain": [
       "0"
      ]
     },
     "execution_count": 8,
     "metadata": {},
     "output_type": "execute_result"
    }
   ],
   "source": [
    "orders.query(q_check_new_carrier_completed).shape[0]"
   ]
  },
  {
   "cell_type": "code",
   "execution_count": 9,
   "metadata": {},
   "outputs": [
    {
     "data": {
      "text/plain": [
       "435"
      ]
     },
     "execution_count": 9,
     "metadata": {},
     "output_type": "execute_result"
    }
   ],
   "source": [
    "orders.query(q_check_no_weight_but_not_open).shape[0]"
   ]
  },
  {
   "cell_type": "code",
   "execution_count": 10,
   "metadata": {},
   "outputs": [
    {
     "data": {
      "text/plain": [
       "42479"
      ]
     },
     "execution_count": 10,
     "metadata": {},
     "output_type": "execute_result"
    }
   ],
   "source": [
    "orders.query(q_check_same_group_as_collection_point).shape[0]"
   ]
  },
  {
   "cell_type": "code",
   "execution_count": 11,
   "metadata": {},
   "outputs": [
    {
     "data": {
      "text/plain": [
       "372"
      ]
     },
     "execution_count": 11,
     "metadata": {},
     "output_type": "execute_result"
    }
   ],
   "source": [
    "orders.query(q_completed_orders).query(q_check_same_container_type).shape[0]"
   ]
  },
  {
   "cell_type": "code",
   "execution_count": null,
   "metadata": {},
   "outputs": [],
   "source": [
    "orders.query(q_completed_orders).query(q_check_same_container_type).head(3)\n",
    "# redacted\n"
   ]
  },
  {
   "cell_type": "markdown",
   "metadata": {},
   "source": [
    "picked up containers and delivered empty containers are not always the same type!\n",
    "\n",
    "This happens for example when the collection point switches from a smaller container type to a bigger one.\n",
    "This means: for the next pick up we have to calculate the target net_weight for bigger containers."
   ]
  },
  {
   "cell_type": "markdown",
   "metadata": {},
   "source": [
    "### Main logic"
   ]
  },
  {
   "cell_type": "markdown",
   "metadata": {},
   "source": [
    "#### prep code"
   ]
  },
  {
   "cell_type": "markdown",
   "metadata": {},
   "source": [
    "##### prepare dataframe for later calcualations"
   ]
  },
  {
   "cell_type": "code",
   "execution_count": 13,
   "metadata": {},
   "outputs": [],
   "source": [
    "def filter_for_report(orders_, debug=True):\n",
    "\n",
    "    # filter certain collection points based on stakeholders insights: 103508246\n",
    "    q_übergabestellenummern = \"übergabestellennummer == 103508246\"\n",
    "    print(f\"drop q_übergabestellenummern rows: {orders_.query(q_übergabestellenummern).shape[0]}\")\n",
    "    orders_ = orders_.drop(orders_.query(q_übergabestellenummern).index)\n",
    "    return orders_ "
   ]
  },
  {
   "cell_type": "code",
   "execution_count": 14,
   "metadata": {},
   "outputs": [
    {
     "name": "stdout",
     "output_type": "stream",
     "text": [
      "drop q_übergabestellenummern rows: 116\n"
     ]
    }
   ],
   "source": [
    "orders = filter_for_report(orders)"
   ]
  },
  {
   "cell_type": "code",
   "execution_count": null,
   "metadata": {},
   "outputs": [],
   "source": [
    "orders_comp, orders_open = prediction.filter_dataframe_for_prediction(orders)\n",
    "# redacted"
   ]
  },
  {
   "cell_type": "code",
   "execution_count": 16,
   "metadata": {},
   "outputs": [
    {
     "name": "stdout",
     "output_type": "stream",
     "text": [
      "unknown container weights: ['Industriepalette', 'Nicht verpackt', 'Klebeband', 'PE-Beutel a 50 Stück', 'Paloxe', 'Palette PV Industriebatterien', 'Gitterbox', 'Paloxe PV Industriebatterien']\n"
     ]
    },
    {
     "data": {
      "text/plain": [
       "(101258, 27)"
      ]
     },
     "execution_count": 16,
     "metadata": {},
     "output_type": "execute_result"
    }
   ],
   "source": [
    "# remove orders having unknown container weights\n",
    "use_pdf_weight = True\n",
    "\n",
    "if use_pdf_weight:\n",
    "    weight_dict = prediction.container_net_weights_full_pdf\n",
    "else:\n",
    "    weight_dict = prediction.container_net_weights_full_data\n",
    "\n",
    "drop_list = list(prediction.get_unknown_container_weights_dict(weight_dict).keys())\n",
    "print(f\"unknown container weights: {drop_list}\")\n",
    "orders_comp = orders_comp[orders_comp.gelieferter_behältertyp.isin(drop_list) == False]\n",
    "orders_comp = orders_comp[orders_comp.angemeldete_containeranzahl.isin(drop_list) == False]\n",
    "orders_comp.shape"
   ]
  },
  {
   "cell_type": "code",
   "execution_count": null,
   "metadata": {},
   "outputs": [],
   "source": [
    "print(orders_comp.query(q_completed_orders).shape[0])\n",
    "# ok so we have 3 orders not reported back but having a pick-up date...let's ignore them\n",
    "#assert orders_comp.query(q_completed_orders).shape[0] == 0"
   ]
  },
  {
   "cell_type": "code",
   "execution_count": null,
   "metadata": {},
   "outputs": [],
   "source": [
    "# sorting by company_group, collection_point and order_date ascending\n",
    "orders_completed_by_company_colpoint_coldate_desc = orders_comp.sort_values(by=['konzernnummer','übergabestellennummer', 'abholdatum'], ascending=True)\n",
    "orders_completed_by_company_colpoint_coldate_desc.shape"
   ]
  },
  {
   "cell_type": "markdown",
   "metadata": {},
   "source": [
    "##### calculate mean weights of container-types from data (values go to configuration above)"
   ]
  },
  {
   "cell_type": "code",
   "execution_count": 19,
   "metadata": {},
   "outputs": [
    {
     "data": {
      "text/plain": [
       "array(['Kiste', 'Fass (60 Ltr.)', 'Fass (Hochenergiebatterien)',\n",
       "       'Fass Li-Batt gemäß SV376 ADR', '5KG',\n",
       "       'SET(Fass/Verp./Sleeve rot)', 'Fass (E-Bike)',\n",
       "       'Sicherheitsbehälter', 'KIT(Verp. / Sleeve rot)'], dtype=object)"
      ]
     },
     "execution_count": 19,
     "metadata": {},
     "output_type": "execute_result"
    }
   ],
   "source": [
    "orders_completed_by_company_colpoint_coldate_desc.gelieferter_behältertyp.unique()"
   ]
  },
  {
   "cell_type": "code",
   "execution_count": 20,
   "metadata": {},
   "outputs": [],
   "source": [
    "orders_completed_by_company_colpoint_coldate_desc[\"gewicht_behälter_data\"] = orders_completed_by_company_colpoint_coldate_desc[\"bruttogewicht_in_kg\"] - orders_completed_by_company_colpoint_coldate_desc[\"nettogewicht_in_kg\"]"
   ]
  },
  {
   "cell_type": "code",
   "execution_count": null,
   "metadata": {},
   "outputs": [],
   "source": [
    "# calculating the mean empty weight of container types\n",
    "orders_completed_by_company_colpoint_coldate_desc.query(\"auftragstyp != 'Erstausstattung'\").groupby(\"angeforderter_behältertyp\")[\"gewicht_behälter_data\"].mean()"
   ]
  },
  {
   "cell_type": "code",
   "execution_count": null,
   "metadata": {},
   "outputs": [],
   "source": [
    "# check what's up with the 5KG container :)\n",
    "orders_completed_by_company_colpoint_coldate_desc.query(\"angeforderter_behältertyp == '5KG' and auftragstyp != 'Erstausstattung'\")\n",
    "# redacted"
   ]
  },
  {
   "cell_type": "markdown",
   "metadata": {},
   "source": [
    "the 5KG container has no weight since it's only one observation having net and gross weight of 0. This is ok since it will not influence predictions."
   ]
  },
  {
   "cell_type": "markdown",
   "metadata": {},
   "source": [
    "#### calculate the day when a collection point's containers are full"
   ]
  },
  {
   "cell_type": "markdown",
   "metadata": {},
   "source": [
    "**Dynamic dataframe creation**\n",
    "\n",
    "In SQL we would create one table for each collection point. \n",
    "My best idea how to do this in python is to create dynamic variables containing the collection point number in the variable name.\n",
    "Then we assign a dataframe containing only the rows for this collection point to it."
   ]
  },
  {
   "cell_type": "markdown",
   "metadata": {},
   "source": [
    "Example:"
   ]
  },
  {
   "cell_type": "code",
   "execution_count": 23,
   "metadata": {},
   "outputs": [
    {
     "data": {
      "text/plain": [
       "' \\nDynamic_Variable_Name = \"orders_collection_point_1672201\"\\ndf = orders_completed_by_company_colpoint_coldate_desc.query(\"übergabestellennummer == 1672201\")\\n \\n# The df is assigned to \"orders_collection_point_1672201\" variable\\nglobals()[Dynamic_Variable_Name] = df\\n \\n# Display variable\\norders_collection_point_1672201.head() \\n'"
      ]
     },
     "execution_count": 23,
     "metadata": {},
     "output_type": "execute_result"
    }
   ],
   "source": [
    "\n",
    "\"\"\" \n",
    "Dynamic_Variable_Name = \"orders_collection_point_1672201\"\n",
    "df = orders_completed_by_company_colpoint_coldate_desc.query(\"übergabestellennummer == 1672201\")\n",
    " \n",
    "# The df is assigned to \"orders_collection_point_1672201\" variable\n",
    "globals()[Dynamic_Variable_Name] = df\n",
    " \n",
    "# Display variable\n",
    "orders_collection_point_1672201.head() \n",
    "\"\"\"\n"
   ]
  },
  {
   "cell_type": "markdown",
   "metadata": {},
   "source": [
    "### Create a list of dataframes for each collection point"
   ]
  },
  {
   "cell_type": "code",
   "execution_count": null,
   "metadata": {},
   "outputs": [],
   "source": [
    "# create a list of all collection_point numbers\n",
    " \n",
    "data = orders_completed_by_company_colpoint_coldate_desc\n",
    "    \n",
    "collection_points = list(data.übergabestellennummer.unique())\n",
    "len(collection_points)"
   ]
  },
  {
   "cell_type": "code",
   "execution_count": null,
   "metadata": {},
   "outputs": [],
   "source": [
    "\n",
    "collection_points.sort()\n",
    "# create a list for the variable names\n",
    "collection_point_df_name_list = list()\n",
    "\n",
    "for cp in collection_points:\n",
    "    \n",
    "    dataframe_name = \"orders_collection_point_\" + cp.astype(str)\n",
    "    collection_point_df_name_list.append(dataframe_name)\n",
    "    # The df is assigned to \"orders_collection_point_<some-collection-point-id>\" variable\n",
    "    Dynamic_Variable_Name = dataframe_name\n",
    "    globals()[Dynamic_Variable_Name] = data.query(\"übergabestellennummer == @cp\")\n",
    "\n",
    "# show the first df in the list\n",
    "#collection_point_df_name_list[0]\n",
    "globals()[collection_point_df_name_list[0]]\n",
    "\n",
    "# redacted"
   ]
  },
  {
   "cell_type": "code",
   "execution_count": 26,
   "metadata": {},
   "outputs": [],
   "source": [
    "def plot_pick_up_orders_for_collection_point(df, save=False):\n",
    "    ampel_colors = {\"Erledigt\" : \"grey\", \"Berechnet\": \"yellow\"}\n",
    "    plt.figure(figsize=(10,8))\n",
    "    ax = sns.barplot(data=df, x=\"abholdatum\", y=\"nettogewicht_in_kg\", hue=\"auftragsstatus\", palette=ampel_colors, linewidth=1, edgecolor=\".5\")\n",
    "    #ax.set_xticklabels(labels = ['<= 10 days', '> 17 days', '11-15 days', '15-17 days'])\n",
    "    ax.axhline(df.nettogewicht_in_kg.mean(), color='grey', label='durchschnittliche Abholmenge', linestyle='--')\n",
    "    ax.set_ylabel(\"Nettogewicht Abholung in kg\")\n",
    "    ax.set_xlabel(\"Tag der Abholung\")\n",
    "    ax.set_title(\"Sammelstelle \" + df[\"übergabestellennummer\"].iloc[0].astype(str) + \":  Erledigte und Erwartete Aufträge\")\n",
    "    xticks = ax.get_xticks()\n",
    "    plt.xticks(rotation=45)\n",
    "    #ax.set_xticklabels([pd.to_datetime(tm, unit='ms').strftime('%Y-%m-%d %H:%M:%S') for tm in xticks], rotation=45)\n",
    "    for i in ax.containers:\n",
    "        ax.bar_label(i, padding=5)\n",
    "    if(save):\n",
    "        path = \"../images/generated/\"\n",
    "        filename = \"prediction_barplot_collection_point_\" + df[\"übergabestellennummer\"].iloc[0].astype(str) + \".png\"\n",
    "        plt.savefig(path + filename)"
   ]
  },
  {
   "cell_type": "code",
   "execution_count": 27,
   "metadata": {},
   "outputs": [],
   "source": [
    "# plot_pick_up_orders_for_collection_point(df_one)"
   ]
  },
  {
   "cell_type": "markdown",
   "metadata": {},
   "source": [
    "### Automated predictions for all collection_points (no plots). Write predictions into orders_orig."
   ]
  },
  {
   "cell_type": "code",
   "execution_count": 30,
   "metadata": {},
   "outputs": [],
   "source": [
    "debug = False # setting this to False will generate predictions for all collection points!\n",
    "\n",
    "number_collection_points = 3\n",
    "count = 0\n",
    "predicted_collection_points_list = list()\n",
    "for df_name in collection_point_df_name_list:\n",
    "   if debug:\n",
    "      if count >= number_collection_points:\n",
    "         break\n",
    "   if(debug):\n",
    "      print(f\"df_name: {df_name}\")\n",
    "   df = globals()[df_name]\n",
    "   # filter out collection points having only one order since we can not calculate a time range between collections for them (total_days_of_collection_all_orders can not be calculated)\n",
    "   df = prediction.drop_single_pick_ups_and_single_initial_deliveries(df)\n",
    "   if df.shape[0] > 0:\n",
    "      pred_dict = prediction.predict_capacity_of_collection_point_full_date(df, prediction.container_net_weights_full_pdf, debug=False)\n",
    "      pred_date = pred_dict[\"kapa_erreicht_am\"]\n",
    "      pred_capacity = pred_dict[\"kapa_kg\"]\n",
    "      pred_row = {'konzernnummer': df[\"konzernnummer\"].iloc[0], 'vertragsnummer': df[\"vertragsnummer\"].iloc[0], 'typ': df[\"typ\"].iloc[0], 'übergabestellennummer': df[\"übergabestellennummer\"].iloc[0], 'auftragstyp': 'Abholauftrag', 'auftragsstatus' : 'Berechnet', 'abholdatum' : pred_date, 'nettogewicht_in_kg': pred_capacity}\n",
    "      predicted_collection_points_list.append(df[\"übergabestellennummer\"].iloc[0])\n",
    "      #df = df.append(pred_row, ignore_index = True)\n",
    "      if(debug):\n",
    "         print(pred_row)\n",
    "      #orders_orig = orders_orig.append(pred_row, ignore_index = True)\n",
    "      orders_comp = orders_comp.append(pred_row, ignore_index = True)\n",
    "      count += 1"
   ]
  },
  {
   "cell_type": "code",
   "execution_count": null,
   "metadata": {},
   "outputs": [],
   "source": [
    "print(f\"predicted {count} dates on which a collection points capacity of kg batteries collected will be reached.\")\n",
    "# redacted"
   ]
  },
  {
   "cell_type": "code",
   "execution_count": null,
   "metadata": {},
   "outputs": [],
   "source": [
    "orders_open.übergabestellennummer.unique().shape[0], orders_comp.übergabestellennummer.unique().shape[0], len(set(predicted_collection_points_list)),\n",
    "# redacted"
   ]
  },
  {
   "cell_type": "code",
   "execution_count": 33,
   "metadata": {},
   "outputs": [],
   "source": [
    "# combine open, completed and predicted orders into one df\n",
    "# use only collection points that enough data to calculate predictions\n",
    "\n",
    "db_data_open = orders_open[orders_open[\"übergabestellennummer\"].isin(predicted_collection_points_list)]\n",
    "db_data_comp = orders_comp[orders_comp[\"übergabestellennummer\"].isin(predicted_collection_points_list)]\n",
    "concat_list = [db_data_open, db_data_comp]\n",
    "db_data = pd.concat(concat_list)\n"
   ]
  },
  {
   "cell_type": "code",
   "execution_count": null,
   "metadata": {},
   "outputs": [],
   "source": [
    "db_data.shape, db_data.übergabestellennummer.unique().shape[0]\n",
    "\n",
    "# redacted"
   ]
  },
  {
   "cell_type": "code",
   "execution_count": null,
   "metadata": {},
   "outputs": [],
   "source": [
    "db_data # redacted"
   ]
  },
  {
   "cell_type": "markdown",
   "metadata": {},
   "source": [
    "### Store results into DB"
   ]
  },
  {
   "cell_type": "code",
   "execution_count": 36,
   "metadata": {},
   "outputs": [],
   "source": [
    "%config SqlMagic.autopandas = True\n",
    "%config SqlMagic.feedback = False\n",
    "%config SqlMagic.displaycon = False"
   ]
  },
  {
   "cell_type": "code",
   "execution_count": 37,
   "metadata": {},
   "outputs": [
    {
     "data": {
      "text/html": [
       "<div>\n",
       "<style scoped>\n",
       "    .dataframe tbody tr th:only-of-type {\n",
       "        vertical-align: middle;\n",
       "    }\n",
       "\n",
       "    .dataframe tbody tr th {\n",
       "        vertical-align: top;\n",
       "    }\n",
       "\n",
       "    .dataframe thead th {\n",
       "        text-align: right;\n",
       "    }\n",
       "</style>\n",
       "<table border=\"1\" class=\"dataframe\">\n",
       "  <thead>\n",
       "    <tr style=\"text-align: right;\">\n",
       "      <th></th>\n",
       "      <th>Database</th>\n",
       "    </tr>\n",
       "  </thead>\n",
       "  <tbody>\n",
       "    <tr>\n",
       "      <th>0</th>\n",
       "      <td>battery</td>\n",
       "    </tr>\n",
       "    <tr>\n",
       "      <th>1</th>\n",
       "      <td>information_schema</td>\n",
       "    </tr>\n",
       "    <tr>\n",
       "      <th>2</th>\n",
       "      <td>mysql</td>\n",
       "    </tr>\n",
       "    <tr>\n",
       "      <th>3</th>\n",
       "      <td>performance_schema</td>\n",
       "    </tr>\n",
       "    <tr>\n",
       "      <th>4</th>\n",
       "      <td>sys</td>\n",
       "    </tr>\n",
       "  </tbody>\n",
       "</table>\n",
       "</div>"
      ],
      "text/plain": [
       "             Database\n",
       "0             battery\n",
       "1  information_schema\n",
       "2               mysql\n",
       "3  performance_schema\n",
       "4                 sys"
      ]
     },
     "execution_count": 37,
     "metadata": {},
     "output_type": "execute_result"
    }
   ],
   "source": [
    "load_dotenv()\n",
    "DATABASE = os.getenv('DATABASE')\n",
    "USER_DB = os.getenv('USER_DB')\n",
    "PASSWORD = os.getenv('PASSWORD')\n",
    "HOST = os.getenv('HOST')\n",
    "PORT = os.getenv('PORT')\n",
    "\n",
    "# connect to existing db\n",
    "con_string = \"mysql+pymysql://\" + USER_DB + \":\" + PASSWORD + \"@\" + HOST + \"/\" + DATABASE + \"?charset=utf8mb4\"\n",
    "db = create_engine(con_string)\n",
    "# test connection\n",
    "pd.read_sql(\"show databases\", db)"
   ]
  },
  {
   "cell_type": "code",
   "execution_count": 38,
   "metadata": {},
   "outputs": [],
   "source": [
    "TABLE_NAME = \"ORDERS_PREDICTIONS_ONLY_PREDICTED_CPS_V5\"\n",
    "OVERWRITE_TABLE = False"
   ]
  },
  {
   "cell_type": "code",
   "execution_count": 39,
   "metadata": {},
   "outputs": [],
   "source": [
    "# write data to table\n",
    "if OVERWRITE_TABLE:\n",
    "    pd.read_sql(\"drop table \" + TABLE_NAME, db)\n",
    "    db_data.to_sql(TABLE_NAME, db)"
   ]
  },
  {
   "cell_type": "code",
   "execution_count": null,
   "metadata": {},
   "outputs": [],
   "source": [
    "# test: select some predictions\n",
    "df_test = pd.read_sql(\"Select übergabestellennummer, typ, auftragsnummer, auftragsstatus, abholdatum, nettogewicht_in_kg from \" + TABLE_NAME + \" WHERE auftragsstatus='Berechnet' limit 10\", db)\n",
    "df_test # redacted"
   ]
  },
  {
   "attachments": {},
   "cell_type": "markdown",
   "metadata": {},
   "source": [
    "### Visualization Example"
   ]
  },
  {
   "cell_type": "code",
   "execution_count": null,
   "metadata": {},
   "outputs": [],
   "source": [
    "# plot barchart for the initially created dummy table.\n",
    "df_reporting = pd.read_csv(\"../data/first_chart.csv\")\n",
    "df_reporting # redacted"
   ]
  },
  {
   "cell_type": "code",
   "execution_count": null,
   "metadata": {},
   "outputs": [],
   "source": [
    "ampel_colors = {\"completed\" : \"green\", \"predicted\": \"yellow\"}\n",
    "plt.figure(figsize=(10,8))\n",
    "ax = sns.barplot(data=df_reporting, x=\"abholdatum\", y=\"nettogewicht\", hue=\"abholung_typ\", palette=ampel_colors, linewidth=1, edgecolor=\".5\")\n",
    "#ax.set_xticklabels(labels = ['<= 10 days', '> 17 days', '11-15 days', '15-17 days'])\n",
    "ax.set_ylabel(\"Nettogewicht Abholung in kg\")\n",
    "ax.set_xlabel(\"Tag der Abholung\")\n",
    "ax.set_title(\"Erledigte und Erwartete Aufträge\")\n",
    "for i in ax.containers:\n",
    "    ax.bar_label(i, padding=5)\n",
    "\n",
    "# redacted"
   ]
  }
 ],
 "metadata": {
  "kernelspec": {
   "display_name": ".venv",
   "language": "python",
   "name": "python3"
  },
  "language_info": {
   "codemirror_mode": {
    "name": "ipython",
    "version": 3
   },
   "file_extension": ".py",
   "mimetype": "text/x-python",
   "name": "python",
   "nbconvert_exporter": "python",
   "pygments_lexer": "ipython3",
   "version": "3.9.8"
  },
  "orig_nbformat": 4,
  "vscode": {
   "interpreter": {
    "hash": "f9b1f7ee9b8716eae474e4e403dd4dff0f662765920b174d1bb68198c0d2acd4"
   }
  }
 },
 "nbformat": 4,
 "nbformat_minor": 2
}
