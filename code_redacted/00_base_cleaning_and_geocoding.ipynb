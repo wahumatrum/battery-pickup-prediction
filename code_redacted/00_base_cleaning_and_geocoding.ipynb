{
 "cells": [
  {
   "cell_type": "code",
   "execution_count": 13,
   "metadata": {},
   "outputs": [],
   "source": [
    "import pandas as pd\n",
    "import warnings\n",
    "from geocode import concat_full_address, fetch_geodata"
   ]
  },
  {
   "cell_type": "markdown",
   "metadata": {},
   "source": [
    "Load the data from `battery.csv` into a pandas data frame. "
   ]
  },
  {
   "cell_type": "code",
   "execution_count": 14,
   "metadata": {},
   "outputs": [],
   "source": [
    "# importing raw data. This is the original excel data grs provided us exported as csv.\n",
    "raw_df = pd.read_csv('../data/battery.csv', sep=';')"
   ]
  },
  {
   "cell_type": "code",
   "execution_count": null,
   "metadata": {},
   "outputs": [],
   "source": [
    "df = raw_df.copy()\n",
    "df.head() # cell outputs cleared"
   ]
  },
  {
   "cell_type": "code",
   "execution_count": null,
   "metadata": {},
   "outputs": [],
   "source": [
    "df.shape # shape redacted"
   ]
  },
  {
   "cell_type": "code",
   "execution_count": null,
   "metadata": {},
   "outputs": [],
   "source": [
    "# Check data info and show the data type of each column\n",
    "print(df.info()) # description redacted"
   ]
  },
  {
   "cell_type": "markdown",
   "metadata": {},
   "source": [
    "## Fix column names formats\n",
    "\n",
    "We want to change the empty spaces to underscores. Also we want to use only low letters in the column names."
   ]
  },
  {
   "cell_type": "code",
   "execution_count": null,
   "metadata": {},
   "outputs": [],
   "source": [
    "# replacing empty spaces with underscores in column names\n",
    "df.columns = df.columns.str.replace(' ','_')\n",
    "df.columns # description redacted"
   ]
  },
  {
   "cell_type": "code",
   "execution_count": null,
   "metadata": {},
   "outputs": [],
   "source": [
    "# changing all column names to lower case\n",
    "df.columns = df.columns.str.lower()\n",
    "df.columns # description redacted"
   ]
  },
  {
   "cell_type": "markdown",
   "metadata": {},
   "source": [
    "## Imputing Latitude and Longitude\n",
    "Test run with few data :)"
   ]
  },
  {
   "cell_type": "code",
   "execution_count": 20,
   "metadata": {},
   "outputs": [],
   "source": [
    "warnings.simplefilter('ignore')\n",
    "df_test = df.iloc[:10]\n",
    "concat_full_address(df_test, address_col='volle_Addresse')\n",
    "fetch_geodata(df_test, address_col='volle_Addresse')"
   ]
  },
  {
   "cell_type": "code",
   "execution_count": null,
   "metadata": {},
   "outputs": [],
   "source": [
    "df_test.head(3) # output redacted"
   ]
  },
  {
   "cell_type": "code",
   "execution_count": 22,
   "metadata": {},
   "outputs": [
    {
     "data": {
      "text/plain": [
       "stasse        0\n",
       "plz           0\n",
       "ort           0\n",
       "bundesland    0\n",
       "dtype: int64"
      ]
     },
     "execution_count": 22,
     "metadata": {},
     "output_type": "execute_result"
    }
   ],
   "source": [
    "# check if address data has missing values\n",
    "df_test[['stasse', 'plz', 'ort', 'bundesland']].isna().sum()"
   ]
  },
  {
   "cell_type": "markdown",
   "metadata": {},
   "source": [
    "Fetching  lat/long geocodes for all addresses. This will run 2-3 hours."
   ]
  },
  {
   "cell_type": "code",
   "execution_count": 23,
   "metadata": {},
   "outputs": [],
   "source": [
    "FETCH_ALL = False\n",
    "\n",
    "if FETCH_ALL:\n",
    "    concat_full_address(df, address_col='volle_Addresse')\n",
    "    fetch_geodata(df, address_col='volle_Addresse')"
   ]
  },
  {
   "cell_type": "code",
   "execution_count": 24,
   "metadata": {},
   "outputs": [
    {
     "data": {
      "text/plain": [
       "stasse        3\n",
       "plz           0\n",
       "ort           0\n",
       "bundesland    0\n",
       "dtype: int64"
      ]
     },
     "execution_count": 24,
     "metadata": {},
     "output_type": "execute_result"
    }
   ],
   "source": [
    "df[['stasse', 'plz', 'ort', 'bundesland']].isna().sum()"
   ]
  },
  {
   "cell_type": "code",
   "execution_count": 25,
   "metadata": {},
   "outputs": [],
   "source": [
    "# pickle will preserve the full state of a pandas dataframe including dtypes\n",
    "if FETCH_ALL:\n",
    "    df.to_pickle(\"../data/battery_with_geo.pkl\")"
   ]
  }
 ],
 "metadata": {
  "kernelspec": {
   "display_name": ".venv",
   "language": "python",
   "name": "python3"
  },
  "language_info": {
   "codemirror_mode": {
    "name": "ipython",
    "version": 3
   },
   "file_extension": ".py",
   "mimetype": "text/x-python",
   "name": "python",
   "nbconvert_exporter": "python",
   "pygments_lexer": "ipython3",
   "version": "3.9.8 (main, Dec 12 2022, 11:24:53) \n[Clang 14.0.0 (clang-1400.0.29.202)]"
  },
  "orig_nbformat": 4,
  "vscode": {
   "interpreter": {
    "hash": "848d75d1ff2c06aca68ceb22c666a4d3c94b8d6424fe16b900a1d4c559f360ea"
   }
  }
 },
 "nbformat": 4,
 "nbformat_minor": 2
}
