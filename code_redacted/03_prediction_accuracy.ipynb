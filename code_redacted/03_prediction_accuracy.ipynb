{
 "cells": [
  {
   "cell_type": "code",
   "execution_count": 1,
   "metadata": {},
   "outputs": [],
   "source": [
    "#import numpy as np\n",
    "import pandas as pd\n",
    "from datetime import datetime as dt\n",
    "import time\n",
    "import prediction\n",
    "import math\n",
    "import datetime"
   ]
  },
  {
   "cell_type": "code",
   "execution_count": 2,
   "metadata": {},
   "outputs": [],
   "source": [
    "def current_milli_time():\n",
    "    return round(time.time() * 1000)"
   ]
  },
  {
   "cell_type": "code",
   "execution_count": 3,
   "metadata": {},
   "outputs": [],
   "source": [
    "def create_collection_point_dataframes(data):\n",
    "    \"\"\"_summary_\n",
    "    Creates a lot of dataframes split by collection point number (übergabestellennummer)\n",
    "     in the global namespace. Using the returned list of dataframe names you can call\n",
    "        df = globals()[collection_point_df_name_list[x]] to get any of the dataframes.\n",
    "    Parameters\n",
    "    ----------\n",
    "    data : _type_\n",
    "        _description_\n",
    "\n",
    "    Returns\n",
    "    -------\n",
    "    _type_\n",
    "        _description_\n",
    "    list of dataframe names that are created globally.\n",
    "    \"\"\"  \n",
    "    collection_points = list(data.übergabestellennummer.unique())\n",
    "    collection_points.sort()\n",
    "    # create a list for the variable names\n",
    "    collection_point_df_name_list = list()\n",
    "\n",
    "    for cp in collection_points:\n",
    "        \n",
    "        dataframe_name = str(current_milli_time()) + \"_orders_collection_point_\" + cp.astype(str)\n",
    "        collection_point_df_name_list.append(dataframe_name)\n",
    "        # The df is assigned to \"orders_collection_point_<some-collection-point-id>\" variable\n",
    "        Dynamic_Variable_Name = dataframe_name\n",
    "        globals()[Dynamic_Variable_Name] = data.query(\"übergabestellennummer == @cp\")\n",
    "    return collection_point_df_name_list"
   ]
  },
  {
   "cell_type": "code",
   "execution_count": 4,
   "metadata": {},
   "outputs": [],
   "source": [
    "def predict_and_return_error_list(cp_list, debug=False, debug_sample_size=10):\n",
    "    \n",
    "    number_collection_points = debug_sample_size\n",
    "    count = 0\n",
    "    error_list = list()\n",
    "    #predicted_collection_points_list = list()\n",
    "    for df_name in cp_list:\n",
    "        if debug:\n",
    "            if count >= number_collection_points:\n",
    "                break\n",
    "        df = globals()[df_name]\n",
    "        if(debug):\n",
    "            print(f\"df_name: {df_name} has {df.shape[0]} rows\")\n",
    "        # filter out collection points having only one order since we can not calculate a time range between collections for them (total_days_of_collection_all_orders can not be calculated)\n",
    "        df = prediction.filter_for_min3_pick_ups_and_initial_deliveries(df)\n",
    "        if df.shape[0] > 0:\n",
    "            x_train, y = prediction.train_test_split(df, debug)\n",
    "            x_train = prediction.filter_for_min3_pick_ups_and_initial_deliveries(x_train)\n",
    "            if x_train.shape[0] > 0:\n",
    "                try:\n",
    "                    error = prediction.calculate_error(x_train, y, debug)\n",
    "                    error_list.append([df_name, error])\n",
    "                    count += 1 \n",
    "                except ValueError:\n",
    "                    print(\"skipping because only calculate error if there is a prediction\", )\n",
    "    \n",
    "    return error_list"
   ]
  },
  {
   "cell_type": "code",
   "execution_count": 5,
   "metadata": {},
   "outputs": [],
   "source": [
    "orders = pd.read_pickle(\"../data/battery_cleaned_with_geo.pkl\")"
   ]
  },
  {
   "cell_type": "code",
   "execution_count": null,
   "metadata": {},
   "outputs": [],
   "source": [
    "orders.columns\n",
    "# redacted"
   ]
  },
  {
   "cell_type": "code",
   "execution_count": null,
   "metadata": {},
   "outputs": [],
   "source": [
    "orders.query(\"übergabestellennummer == '105759'\")\n",
    "# redacted"
   ]
  },
  {
   "cell_type": "code",
   "execution_count": null,
   "metadata": {},
   "outputs": [],
   "source": [
    "orders = prediction.filter_for_report(orders)\n",
    "orders_comp, orders_open = prediction.filter_dataframe_for_prediction(orders)\n",
    "# redacted"
   ]
  },
  {
   "cell_type": "code",
   "execution_count": null,
   "metadata": {},
   "outputs": [],
   "source": [
    "# filter completed orders by Vertragsnummer GRS ONLINE, Fahrradbatterien\n",
    "\n",
    "orders_grs = orders_comp.query(\"vertragsnummer == 'GRS Online'\")\n",
    "print(f\"GRS Online orders: {orders_grs.shape[0]}\")\n",
    "\n",
    "orders_bikes = orders_comp.query(\"vertragsnummer == 'Fahrradbatterien'\")\n",
    "print(f\"Fahrradbatterien orders: {orders_bikes.shape[0]}\")\n",
    "\n",
    "# redacted\n"
   ]
  },
  {
   "cell_type": "markdown",
   "metadata": {},
   "source": [
    "### GRS"
   ]
  },
  {
   "cell_type": "code",
   "execution_count": 10,
   "metadata": {},
   "outputs": [],
   "source": [
    "\n",
    "orders_grs = prediction.remove_orders_with_unknown_weights(orders_grs)\n",
    "# sorting by company_group, collection_point and order_date ascending\n",
    "orders_grs = orders_grs.sort_values(by=['konzernnummer','übergabestellennummer', 'abholdatum'], ascending=True)"
   ]
  },
  {
   "cell_type": "code",
   "execution_count": null,
   "metadata": {},
   "outputs": [],
   "source": [
    "orders_grs.query(\"übergabestellennummer == 105759\")\n",
    "# redacted"
   ]
  },
  {
   "cell_type": "code",
   "execution_count": 12,
   "metadata": {},
   "outputs": [],
   "source": [
    "grs_collection_point_list = create_collection_point_dataframes(orders_grs)"
   ]
  },
  {
   "cell_type": "code",
   "execution_count": null,
   "metadata": {},
   "outputs": [],
   "source": [
    "error_list = predict_and_return_error_list(grs_collection_point_list, debug=False)\n",
    "# redacted"
   ]
  },
  {
   "cell_type": "code",
   "execution_count": null,
   "metadata": {},
   "outputs": [],
   "source": [
    "prediction.print_prediction_metrics(error_list)\n",
    "# redacted"
   ]
  },
  {
   "cell_type": "markdown",
   "metadata": {},
   "source": [
    "### Fahrradbatterien"
   ]
  },
  {
   "cell_type": "code",
   "execution_count": null,
   "metadata": {},
   "outputs": [],
   "source": [
    "\n",
    "orders_bikes = prediction.remove_orders_with_unknown_weights(orders_bikes)\n",
    "orders_bikes = orders_bikes.sort_values(by=['konzernnummer','übergabestellennummer', 'abholdatum'], ascending=True)\n",
    "bikes_cp_list = create_collection_point_dataframes(orders_bikes)\n",
    "bikes_error_list = predict_and_return_error_list(bikes_cp_list, debug=False)\n",
    "prediction.print_prediction_metrics(bikes_error_list)\n",
    "\n",
    "# redacted"
   ]
  }
 ],
 "metadata": {
  "kernelspec": {
   "display_name": ".venv",
   "language": "python",
   "name": "python3"
  },
  "language_info": {
   "codemirror_mode": {
    "name": "ipython",
    "version": 3
   },
   "file_extension": ".py",
   "mimetype": "text/x-python",
   "name": "python",
   "nbconvert_exporter": "python",
   "pygments_lexer": "ipython3",
   "version": "3.9.8"
  },
  "orig_nbformat": 4,
  "vscode": {
   "interpreter": {
    "hash": "f9b1f7ee9b8716eae474e4e403dd4dff0f662765920b174d1bb68198c0d2acd4"
   }
  }
 },
 "nbformat": 4,
 "nbformat_minor": 2
}
