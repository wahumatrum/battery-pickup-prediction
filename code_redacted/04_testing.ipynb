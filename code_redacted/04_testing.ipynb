{
 "cells": [
  {
   "cell_type": "code",
   "execution_count": 1,
   "metadata": {},
   "outputs": [],
   "source": [
    "import numpy as np\n",
    "import pandas as pd\n",
    "from datetime import datetime as dt\n",
    "import time\n",
    "import math\n",
    "import datetime\n",
    "\n",
    "import prediction"
   ]
  },
  {
   "cell_type": "markdown",
   "metadata": {},
   "source": [
    "### Testing filtering of single pick-ups and single initial deliveries"
   ]
  },
  {
   "cell_type": "markdown",
   "metadata": {},
   "source": [
    "create test data"
   ]
  },
  {
   "cell_type": "code",
   "execution_count": 2,
   "metadata": {},
   "outputs": [],
   "source": [
    "orders = pd.read_pickle(\"../data/battery_cleaned_with_geo.pkl\")\n",
    "orders = orders[[\"übergabestellennummer\", \"auftragsnummer\", \"auftragsstatus\", \"auftragstyp\", \"abholdatum\", \"nettogewicht_in_kg\", \"angemeldete_containeranzahl\", \"angeforderter_behältertyp\", \"gelieferter_behältertyp\", \"gelieferte_behälteranzahl\"]]"
   ]
  },
  {
   "cell_type": "code",
   "execution_count": 3,
   "metadata": {},
   "outputs": [],
   "source": [
    "# create test data sets\n",
    "\n",
    "#redacted"
   ]
  },
  {
   "cell_type": "code",
   "execution_count": 4,
   "metadata": {},
   "outputs": [],
   "source": [
    "test = pd.read_pickle(\"../data/test_103509220.pkl\")\n",
    "test.drop(test.query(\"auftragsnummer == 23615989\").index, inplace=True)\n",
    "test.to_pickle(\"../data/test_erstausstattung_abholauftrag_both_single.pkl\")"
   ]
  },
  {
   "cell_type": "code",
   "execution_count": 5,
   "metadata": {},
   "outputs": [],
   "source": [
    "# has  one order of type initial delivery and one pick-up order. This should be filtered out.\n",
    "test_orders_in = pd.read_pickle(\"../data/test_erstausstattung_abholauftrag_both_single.pkl\")\n",
    "test_orders_out = pd.read_pickle(\"../data/test_erstausstattung_abholauftrag_both_single.pkl\")\n",
    "assert prediction.drop_single_pick_ups_and_single_initial_deliveries(test_orders_in).shape[0] == 0"
   ]
  },
  {
   "cell_type": "code",
   "execution_count": 6,
   "metadata": {},
   "outputs": [],
   "source": [
    "# 1713671 has a long list of orders including an initial delivery somewhere in between.  This is fine - nothing should change here.\n",
    "test_orders_in = pd.read_pickle(\"../data/test_1713671.pkl\")\n",
    "test_orders_out = pd.read_pickle(\"../data/test_1713671.pkl\")\n",
    "assert prediction.drop_single_pick_ups_and_single_initial_deliveries(test_orders_in).equals(test_orders_out)"
   ]
  },
  {
   "cell_type": "code",
   "execution_count": 7,
   "metadata": {},
   "outputs": [],
   "source": [
    "# 103509220 has order type initial delivery as first order and 2 later pick-up orders. This is fine - nothing should change here.\n",
    "test_orders_in = pd.read_pickle(\"../data/test_103509220.pkl\")\n",
    "test_orders_out = pd.read_pickle(\"../data/test_103509220.pkl\")\n",
    "assert prediction.drop_single_pick_ups_and_single_initial_deliveries(test_orders_in).equals(test_orders_out)"
   ]
  },
  {
   "cell_type": "code",
   "execution_count": 8,
   "metadata": {},
   "outputs": [],
   "source": [
    "# 100222 has only one order of type initial delivery. This should be filtered out.\n",
    "test_orders_in = pd.read_pickle(\"../data/test_100222.pkl\")\n",
    "test_orders_out = pd.read_pickle(\"../data/test_100222.pkl\")\n",
    "assert prediction.drop_single_pick_ups_and_single_initial_deliveries(test_orders_in).shape[0] == 0"
   ]
  },
  {
   "cell_type": "code",
   "execution_count": 9,
   "metadata": {},
   "outputs": [],
   "source": [
    "# collection point 107573 has 2 orders with same date but different container type. we can not calculate a prediction.\n",
    "test_orders_in = pd.read_pickle(\"../data/test_107573.pkl\")\n",
    "test_orders_out = pd.read_pickle(\"../data/test_107573.pkl\")\n",
    "assert prediction.drop_single_pick_ups_and_single_initial_deliveries(test_orders_in).shape[0] == 0"
   ]
  },
  {
   "cell_type": "code",
   "execution_count": 10,
   "metadata": {},
   "outputs": [],
   "source": [
    "# 100222\n",
    "test_orders_in = pd.read_pickle(\"../data/test_100222.pkl\")\n",
    "test_orders_out = pd.read_pickle(\"../data/test_100222.pkl\")\n",
    "assert prediction.filter_for_min3_pick_ups_and_initial_deliveries(test_orders_in).shape[0] == 0"
   ]
  },
  {
   "cell_type": "code",
   "execution_count": 11,
   "metadata": {},
   "outputs": [],
   "source": [
    "test_orders_in = pd.read_pickle(\"../data/test_103509220.pkl\")\n",
    "test_orders_out = pd.read_pickle(\"../data/test_103509220.pkl\")\n",
    "assert prediction.filter_for_min3_pick_ups_and_initial_deliveries(test_orders_in).shape[0] == 0"
   ]
  },
  {
   "cell_type": "code",
   "execution_count": 12,
   "metadata": {},
   "outputs": [],
   "source": [
    "test_orders_in = pd.read_pickle(\"../data/test_1713671.pkl\")\n",
    "test_orders_out = pd.read_pickle(\"../data/test_1713671.pkl\")\n",
    "assert prediction.filter_for_min3_pick_ups_and_initial_deliveries(test_orders_in).equals(test_orders_out)"
   ]
  },
  {
   "cell_type": "code",
   "execution_count": 13,
   "metadata": {},
   "outputs": [],
   "source": [
    "temp = pd.read_pickle(\"../data/test_1713671.pkl\")\n",
    "temp = temp.iloc[:4]\n",
    "temp.to_pickle(\"../data/test_1713671_delivery_latest.pkl\")"
   ]
  },
  {
   "cell_type": "code",
   "execution_count": 14,
   "metadata": {},
   "outputs": [],
   "source": [
    "test_orders_in = pd.read_pickle(\"../data/test_1713671_delivery_latest.pkl\")\n",
    "test_orders_out = pd.read_pickle(\"../data/test_1713671_delivery_latest.pkl\")\n",
    "assert prediction.filter_for_min3_pick_ups_and_initial_deliveries(test_orders_in).shape[0] == 3\n"
   ]
  },
  {
   "cell_type": "code",
   "execution_count": 15,
   "metadata": {},
   "outputs": [],
   "source": [
    "# 111930\n",
    "test_orders_in = pd.read_pickle(\"../data/test_111930.pkl\")\n",
    "test_orders_out = pd.read_pickle(\"../data/test_111930.pkl\")\n",
    "assert prediction.filter_for_min3_pick_ups_and_initial_deliveries(test_orders_in).shape[0] > 2\n",
    "assert prediction.filter_for_min3_pick_ups_and_initial_deliveries(test_orders_in).iloc[-1].auftragstyp == \"Abholauftrag\""
   ]
  },
  {
   "cell_type": "code",
   "execution_count": 16,
   "metadata": {},
   "outputs": [],
   "source": [
    "# collection point 107573 has 2 orders with same date but different container type. we can not calculate a prediction.\n",
    "test_orders_in = pd.read_pickle(\"../data/test_107573.pkl\")\n",
    "test_orders_out = pd.read_pickle(\"../data/test_107573.pkl\")\n",
    "assert prediction.filter_for_min3_pick_ups_and_initial_deliveries(test_orders_in).shape[0] == 0"
   ]
  }
 ],
 "metadata": {
  "kernelspec": {
   "display_name": ".venv",
   "language": "python",
   "name": "python3"
  },
  "language_info": {
   "codemirror_mode": {
    "name": "ipython",
    "version": 3
   },
   "file_extension": ".py",
   "mimetype": "text/x-python",
   "name": "python",
   "nbconvert_exporter": "python",
   "pygments_lexer": "ipython3",
   "version": "3.9.8 (main, Dec 12 2022, 11:24:53) \n[Clang 14.0.0 (clang-1400.0.29.202)]"
  },
  "orig_nbformat": 4,
  "vscode": {
   "interpreter": {
    "hash": "f9b1f7ee9b8716eae474e4e403dd4dff0f662765920b174d1bb68198c0d2acd4"
   }
  }
 },
 "nbformat": 4,
 "nbformat_minor": 2
}
